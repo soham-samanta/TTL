{
 "cells": [
  {
   "cell_type": "raw",
   "id": "637e0519",
   "metadata": {},
   "source": []
  },
  {
   "cell_type": "code",
   "execution_count": 8,
   "id": "9c1e6709",
   "metadata": {},
   "outputs": [
    {
     "name": "stdout",
     "output_type": "stream",
     "text": [
      "{'brand': 'Audi', 'model': 'A6', 'year': 2021, 'electric': False, 'color': ['red', 'blue', 'white']}\n"
     ]
    }
   ],
   "source": [
    "dict = {\n",
    "    \"brand\":\"Audi\",\n",
    "    \"model\":\"A6\",\n",
    "    \"year\":2018,\n",
    "    \"year\":2021,\n",
    "    \"electric\":False,\n",
    "    \"color\":[\"red\",\"blue\",\"white\"]\n",
    "}\n",
    "print(dict)"
   ]
  },
  {
   "cell_type": "code",
   "execution_count": 6,
   "id": "913bac06",
   "metadata": {},
   "outputs": [
    {
     "name": "stdout",
     "output_type": "stream",
     "text": [
      "2021\n"
     ]
    }
   ],
   "source": [
    "print(dict[\"year\"])"
   ]
  },
  {
   "cell_type": "code",
   "execution_count": 5,
   "id": "242f9fd1",
   "metadata": {},
   "outputs": [
    {
     "name": "stdout",
     "output_type": "stream",
     "text": [
      "3\n"
     ]
    }
   ],
   "source": [
    "print(len(dict))"
   ]
  },
  {
   "cell_type": "code",
   "execution_count": 9,
   "id": "81ed5eb1",
   "metadata": {},
   "outputs": [
    {
     "name": "stdout",
     "output_type": "stream",
     "text": [
      "<class 'dict'>\n"
     ]
    }
   ],
   "source": [
    "print(type(dict))"
   ]
  },
  {
   "cell_type": "code",
   "execution_count": 12,
   "id": "ace4ba89",
   "metadata": {},
   "outputs": [
    {
     "name": "stdout",
     "output_type": "stream",
     "text": [
      "A6\n"
     ]
    }
   ],
   "source": [
    "x=dict[\"model\"]\n",
    "print(x)"
   ]
  },
  {
   "cell_type": "code",
   "execution_count": 13,
   "id": "b65f3029",
   "metadata": {},
   "outputs": [
    {
     "name": "stdout",
     "output_type": "stream",
     "text": [
      "dict_keys(['brand', 'model', 'year', 'electric', 'color'])\n"
     ]
    }
   ],
   "source": [
    "x=dict.keys()\n",
    "print(x)"
   ]
  },
  {
   "cell_type": "code",
   "execution_count": 14,
   "id": "3f17fdb0",
   "metadata": {},
   "outputs": [
    {
     "name": "stdout",
     "output_type": "stream",
     "text": [
      "dict_values(['Audi', 'A6', 2021, False, ['red', 'blue', 'white']])\n"
     ]
    }
   ],
   "source": [
    "x=dict.values()\n",
    "print(x)"
   ]
  },
  {
   "cell_type": "code",
   "execution_count": 16,
   "id": "a958b902",
   "metadata": {},
   "outputs": [
    {
     "name": "stdout",
     "output_type": "stream",
     "text": [
      "No, name ain't a key\n"
     ]
    }
   ],
   "source": [
    "if \"name\" in dict:\n",
    "    print(\"Yes name is a key\")\n",
    "else:\n",
    "    print(\"No, name ain't a key\")"
   ]
  },
  {
   "cell_type": "code",
   "execution_count": 22,
   "id": "e03f356c",
   "metadata": {},
   "outputs": [
    {
     "name": "stdout",
     "output_type": "stream",
     "text": [
      "dict_keys(['brand', 'model', 'year', 'electric'])\n",
      "dict_keys(['brand', 'model', 'year', 'electric', 'color'])\n"
     ]
    }
   ],
   "source": [
    "dict={\n",
    "    \"brand\":\"Audi\",\n",
    "    \"model\":\"A6\",\n",
    "    \"year\":2018,\n",
    "    \"electric\":True\n",
    "}\n",
    "x=dict.keys()\n",
    "print(x)\n",
    "dict[\"color\"]=\"salmon pink\"\n",
    "print(x)"
   ]
  },
  {
   "cell_type": "code",
   "execution_count": 23,
   "id": "dd6a3891",
   "metadata": {},
   "outputs": [
    {
     "name": "stdout",
     "output_type": "stream",
     "text": [
      "{'brand': 'Audi', 'model': 'A6', 'year': 2015, 'electric': True, 'color': 'salmon pink'}\n"
     ]
    }
   ],
   "source": [
    "dict.update({\"year\":2015})\n",
    "print(dict)"
   ]
  },
  {
   "cell_type": "code",
   "execution_count": 24,
   "id": "4f2dfcf3",
   "metadata": {},
   "outputs": [
    {
     "name": "stdout",
     "output_type": "stream",
     "text": [
      "{'brand': 'Audi', 'model': 'A6', 'year': 2015, 'electric': True}\n"
     ]
    }
   ],
   "source": [
    "dict.popitem()\n",
    "print(dict)"
   ]
  },
  {
   "cell_type": "code",
   "execution_count": 25,
   "id": "c1dacb74",
   "metadata": {},
   "outputs": [
    {
     "name": "stdout",
     "output_type": "stream",
     "text": [
      "{'brand': 'Audi', 'year': 2015, 'electric': True}\n"
     ]
    }
   ],
   "source": [
    "del dict[\"model\"]\n",
    "print(dict)"
   ]
  },
  {
   "cell_type": "code",
   "execution_count": 27,
   "id": "77c381cc",
   "metadata": {},
   "outputs": [
    {
     "ename": "NameError",
     "evalue": "name 'dict' is not defined",
     "output_type": "error",
     "traceback": [
      "\u001b[0;31m---------------------------------------------------------------------------\u001b[0m",
      "\u001b[0;31mNameError\u001b[0m                                 Traceback (most recent call last)",
      "Input \u001b[0;32mIn [27]\u001b[0m, in \u001b[0;36m<cell line: 1>\u001b[0;34m()\u001b[0m\n\u001b[0;32m----> 1\u001b[0m \u001b[38;5;28;01mdel\u001b[39;00m \u001b[38;5;28mdict\u001b[39m\n\u001b[1;32m      2\u001b[0m \u001b[38;5;28mprint\u001b[39m(\u001b[38;5;28mdict\u001b[39m)\n",
      "\u001b[0;31mNameError\u001b[0m: name 'dict' is not defined"
     ]
    }
   ],
   "source": [
    "del dict\n",
    "print(dict)"
   ]
  },
  {
   "cell_type": "code",
   "execution_count": 31,
   "id": "2e219258",
   "metadata": {},
   "outputs": [
    {
     "name": "stdout",
     "output_type": "stream",
     "text": [
      "brand\n",
      "model\n",
      "year\n",
      "electric\n",
      "color\n"
     ]
    }
   ],
   "source": [
    "dict = {\n",
    "    \"brand\":\"Audi\",\n",
    "    \"model\":\"A6\",\n",
    "    \"year\":2018,\n",
    "    \"year\":2021,\n",
    "    \"electric\":False,\n",
    "    \"color\":[\"red\",\"blue\",\"white\"]\n",
    "}\n",
    "for x in dict:\n",
    "    print(x)"
   ]
  },
  {
   "cell_type": "code",
   "execution_count": 32,
   "id": "f35506d2",
   "metadata": {
    "scrolled": true
   },
   "outputs": [
    {
     "name": "stdout",
     "output_type": "stream",
     "text": [
      "Audi\n",
      "A6\n",
      "2021\n",
      "False\n",
      "['red', 'blue', 'white']\n"
     ]
    }
   ],
   "source": [
    "for x in dict:\n",
    "    print(dict[x])"
   ]
  },
  {
   "cell_type": "code",
   "execution_count": 34,
   "id": "acbaca92",
   "metadata": {},
   "outputs": [
    {
     "name": "stdout",
     "output_type": "stream",
     "text": [
      "brand : Audi\n",
      "model : A6\n",
      "year : 2021\n",
      "electric : False\n",
      "color : ['red', 'blue', 'white']\n"
     ]
    }
   ],
   "source": [
    "for x,y in dict.items():\n",
    "    print(x, \":\" ,y)"
   ]
  },
  {
   "cell_type": "code",
   "execution_count": 35,
   "id": "ba9df92d",
   "metadata": {},
   "outputs": [
    {
     "name": "stdout",
     "output_type": "stream",
     "text": [
      "{'brand': 'Audi', 'model': 'A6', 'year': 2021, 'electric': False, 'color': ['red', 'blue', 'white']}\n"
     ]
    }
   ],
   "source": [
    "dict2=dict.copy()\n",
    "print(dict2)"
   ]
  },
  {
   "cell_type": "code",
   "execution_count": 38,
   "id": "2809405d",
   "metadata": {},
   "outputs": [
    {
     "name": "stdout",
     "output_type": "stream",
     "text": [
      "{'child1': {'name': 'soham', 'year': 2000}, 'child2': {'name': 'linda', 'year': 2001}, 'child3': {'name': 'max', 'year': 2002}}\n"
     ]
    }
   ],
   "source": [
    "fam={\n",
    "    \"child1\":{\n",
    "        \"name\":\"soham\",\n",
    "        \"year\":2000\n",
    "    },\n",
    "    \"child2\":{\n",
    "        \"name\":\"linda\",\n",
    "        \"year\":2001\n",
    "    },\n",
    "    \"child3\":{\n",
    "        \"name\":\"max\",\n",
    "        \"year\":2002\n",
    "    }\n",
    "}\n",
    "print(fam)"
   ]
  },
  {
   "cell_type": "code",
   "execution_count": null,
   "id": "d052b665",
   "metadata": {},
   "outputs": [],
   "source": []
  }
 ],
 "metadata": {
  "kernelspec": {
   "display_name": "Python 3 (ipykernel)",
   "language": "python",
   "name": "python3"
  },
  "language_info": {
   "codemirror_mode": {
    "name": "ipython",
    "version": 3
   },
   "file_extension": ".py",
   "mimetype": "text/x-python",
   "name": "python",
   "nbconvert_exporter": "python",
   "pygments_lexer": "ipython3",
   "version": "3.10.4"
  }
 },
 "nbformat": 4,
 "nbformat_minor": 5
}
