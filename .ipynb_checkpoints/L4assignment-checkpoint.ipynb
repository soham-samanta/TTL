{
 "cells": [
  {
   "cell_type": "code",
   "execution_count": 1,
   "id": "e7fb6661",
   "metadata": {},
   "outputs": [
    {
     "name": "stdout",
     "output_type": "stream",
     "text": [
      "no of elements =  3\n",
      "length of one array element(in bytes) =  8\n",
      "length of array element(in bytes) =  24\n"
     ]
    }
   ],
   "source": [
    "# SOHAM SAMANTA | 20051107 | TT-Lab4 Assignment\n",
    "#Q1\n",
    "import numpy as np\n",
    "arr=np.array([1,2,3])\n",
    "print('no of elements = ',len(arr))\n",
    "print('length of one array element(in bytes) = ',arr.itemsize)\n",
    "print('length of array element(in bytes) = ',arr.size*arr.itemsize)"
   ]
  },
  {
   "cell_type": "code",
   "execution_count": 2,
   "id": "4652507e",
   "metadata": {},
   "outputs": [
    {
     "name": "stdout",
     "output_type": "stream",
     "text": [
      "[ True  True  True]\n"
     ]
    }
   ],
   "source": [
    "#Q2\n",
    "Y=np.array([1,2,3])\n",
    "X=arr=np.array([1,2,3,4])\n",
    "print(np.isin(Y, X))"
   ]
  },
  {
   "cell_type": "code",
   "execution_count": 3,
   "id": "afa5c6b1",
   "metadata": {},
   "outputs": [
    {
     "name": "stdout",
     "output_type": "stream",
     "text": [
      "[1 3 4]\n"
     ]
    }
   ],
   "source": [
    "#Q3\n",
    "import numpy as np\n",
    "ar1 = np.array([11, 1, 2, 3, 4])\n",
    "ar2 = [1, 3, 4]\n",
    "print(np.intersect1d(ar1, ar2))"
   ]
  },
  {
   "cell_type": "code",
   "execution_count": 5,
   "id": "48da1539",
   "metadata": {},
   "outputs": [
    {
     "name": "stdout",
     "output_type": "stream",
     "text": [
      "Before changing float64\n",
      "\n",
      "After changing int32\n"
     ]
    }
   ],
   "source": [
    "#Q4\n",
    "import numpy as np\n",
    "array = np.array([4.1, 2.3, 6.5, 3.1, 9.7])\n",
    "print(f'Before changing {array.dtype}')\n",
    "array = array.astype(np.int32)\n",
    "print(f'\\nAfter changing {array.dtype}')"
   ]
  },
  {
   "cell_type": "code",
   "execution_count": 6,
   "id": "b71b0ea0",
   "metadata": {},
   "outputs": [
    {
     "name": "stdout",
     "output_type": "stream",
     "text": [
      "[[1. 0. 0.]\n",
      " [0. 1. 0.]\n",
      " [0. 0. 1.]]\n"
     ]
    }
   ],
   "source": [
    "#Q5\n",
    "import numpy as np\n",
    "x = np.eye(3)\n",
    "print(x)"
   ]
  },
  {
   "cell_type": "code",
   "execution_count": 7,
   "id": "1d74640d",
   "metadata": {},
   "outputs": [
    {
     "name": "stdout",
     "output_type": "stream",
     "text": [
      "One dimensional array:\n",
      "[0 1 2 3]\n",
      "Two dimensional array:\n",
      "[[0 1 2 3]\n",
      " [4 5 6 7]]\n",
      "0:0\n",
      "1:1\n",
      "2:2\n",
      "3:3\n",
      "0:4\n",
      "1:5\n",
      "2:6\n",
      "3:7\n"
     ]
    }
   ],
   "source": [
    "#Q6\n",
    "import numpy as np\n",
    "x = np.arange(4)\n",
    "print(\"One dimensional array:\")\n",
    "print(x)\n",
    "y = np.arange(8).reshape(2,4)\n",
    "print(\"Two dimensional array:\")\n",
    "print(y)\n",
    "for a, b in np.nditer([x,y]):\n",
    "    print(\"%d:%d\" % (a,b),)"
   ]
  },
  {
   "cell_type": "code",
   "execution_count": 8,
   "id": "eb76b7be",
   "metadata": {},
   "outputs": [
    {
     "name": "stdout",
     "output_type": "stream",
     "text": [
      "[(1, 2., b'Albert Einstein') (2, 2., b'Edmond Halley')\n",
      " (3, 3., b'Gertrude B. Elion')]\n"
     ]
    }
   ],
   "source": [
    "#Q7\n",
    "import numpy as np\n",
    "x = np.zeros((3,), dtype=('i4,f4,a40'))\n",
    "new_data = [(1, 2., \"Albert Einstein\"), (2, 2., \"Edmond Halley\"), (3, 3., \"Gertrude B. Elion\")]\n",
    "x[:] = new_data\n",
    "print(x)"
   ]
  },
  {
   "cell_type": "code",
   "execution_count": 9,
   "id": "f95410cd",
   "metadata": {},
   "outputs": [
    {
     "name": "stdout",
     "output_type": "stream",
     "text": [
      "[ 3.11  9.67 55.1   6.6   7.81  7.12]\n",
      "float64\n",
      "[ 3  9 55  6  7  7]\n",
      "int64\n"
     ]
    }
   ],
   "source": [
    "#Q8\n",
    "import numpy as np\n",
    "float_array = np.array([3.11, 9.67, 55.1, 6.6, 7.81, 7.12])\n",
    "print(float_array)\n",
    "print(float_array.dtype)\n",
    "rounded_down_integer_array = float_array.astype(int)\n",
    "print(rounded_down_integer_array)\n",
    "print(rounded_down_integer_array.dtype)"
   ]
  },
  {
   "cell_type": "code",
   "execution_count": 10,
   "id": "e6341476",
   "metadata": {},
   "outputs": [
    {
     "name": "stdout",
     "output_type": "stream",
     "text": [
      "2\n"
     ]
    }
   ],
   "source": [
    "#Q9\n",
    "x=np.array([1,2,0,5,2])\n",
    "print(np.count_nonzero(x == 2))"
   ]
  },
  {
   "cell_type": "code",
   "execution_count": 11,
   "id": "a316d535",
   "metadata": {},
   "outputs": [
    {
     "name": "stdout",
     "output_type": "stream",
     "text": [
      "Original array:\n",
      "[[ 0  1  2  3  4]\n",
      " [ 5  6  7  8  9]\n",
      " [10 11 12 13 14]\n",
      " [15 16 17 18 19]]\n",
      "\n",
      "After swapping column1 with column4:\n",
      "[[ 3  1  2  0  4]\n",
      " [ 8  6  7  5  9]\n",
      " [13 11 12 10 14]\n",
      " [18 16 17 15 19]]\n"
     ]
    }
   ],
   "source": [
    "#Q10\n",
    "import numpy as np\n",
    "array_nums = np.arange(20).reshape(4,5)\n",
    "print(\"Original array:\")\n",
    "print(array_nums)\n",
    "print(\"\\nAfter swapping column1 with column4:\")\n",
    "array_nums[:,[0,3]] = array_nums[:,[3,0]]\n",
    "print(array_nums)"
   ]
  },
  {
   "cell_type": "code",
   "execution_count": 12,
   "id": "a2d27d6f",
   "metadata": {},
   "outputs": [
    {
     "name": "stdout",
     "output_type": "stream",
     "text": [
      "Original vector:\n",
      "[[1 2 1]\n",
      " [3 1 3]\n",
      " [0 2 2]\n",
      " [0 1 3]\n",
      " [3 2 1]\n",
      " [0 1 0]]\n",
      "\n",
      "Rows with unequal values:\n",
      "[[1 2 1]\n",
      " [3 1 3]\n",
      " [0 2 2]\n",
      " [0 1 3]\n",
      " [3 2 1]\n",
      " [0 1 0]]\n"
     ]
    }
   ],
   "source": [
    "#Q11\n",
    "import numpy as np\n",
    "nums = np.random.randint(0,4,(6,3))\n",
    "print(\"Original vector:\")\n",
    "print(nums)\n",
    "new_nums = np.logical_and.reduce(nums[:,1:] == nums[:,:-1], axis=1)\n",
    "result = nums[~new_nums]\n",
    "print(\"\\nRows with unequal values:\")\n",
    "print(result)"
   ]
  },
  {
   "cell_type": "code",
   "execution_count": 13,
   "id": "8a31cf4b",
   "metadata": {},
   "outputs": [
    {
     "name": "stdout",
     "output_type": "stream",
     "text": [
      "Empty Array\n",
      "[[0 0 0 0]\n",
      " [0 0 0 0]\n",
      " [0 0 0 0]]\n",
      "\n",
      " Full Array\n",
      "[[13 13 13]\n",
      " [13 13 13]\n",
      " [13 13 13]]\n"
     ]
    }
   ],
   "source": [
    "#PART _2\n",
    "#Q1\n",
    "import numpy as np\n",
    "empt = np.empty((3, 4), dtype=int)\n",
    "print(\"Empty Array\")\n",
    "print(empt)\n",
    "full = np.full([3, 3], 13, dtype=int)\n",
    "print(\"\\n Full Array\")\n",
    "print(full)"
   ]
  },
  {
   "cell_type": "code",
   "execution_count": 14,
   "id": "83d71c67",
   "metadata": {},
   "outputs": [
    {
     "name": "stdout",
     "output_type": "stream",
     "text": [
      "\n",
      "Matrix : \n",
      " [[0 0 0]\n",
      " [0 0 0]\n",
      " [0 0 0]]\n"
     ]
    }
   ],
   "source": [
    "#Q2\n",
    "import numpy as np\n",
    "arr = np.zeros([3, 3], dtype = int)\n",
    "print(\"\\nMatrix : \\n\", arr)"
   ]
  },
  {
   "cell_type": "code",
   "execution_count": 15,
   "id": "f4140b70",
   "metadata": {},
   "outputs": [
    {
     "name": "stdout",
     "output_type": "stream",
     "text": [
      "\n",
      "Matrix b : \n",
      " [[1 1 1]\n",
      " [1 1 1]\n",
      " [1 1 1]]\n"
     ]
    }
   ],
   "source": [
    "#Q3\n",
    "import numpy as np\n",
    "arr = np.ones([3, 3], dtype = int)\n",
    "print(\"\\nMatrix b : \\n\", arr)"
   ]
  },
  {
   "cell_type": "code",
   "execution_count": 16,
   "id": "8993fe0a",
   "metadata": {},
   "outputs": [
    {
     "name": "stdout",
     "output_type": "stream",
     "text": [
      "[[ 1  2  3  4  5]\n",
      " [ 6  7  8  9 10]\n",
      " [11 12 13 14 15]\n",
      " [16 17 18 19 20]]\n",
      "True\n",
      "False\n",
      "False\n",
      "True\n"
     ]
    }
   ],
   "source": [
    "#Q4\n",
    "import numpy\n",
    "arr = numpy.array([[1, 2, 3, 4, 5],\n",
    "[6, 7, 8, 9, 10],[11, 12, 13, 14, 15],[16, 17, 18, 19, 20]])\n",
    "print(arr)\n",
    "print([1, 2, 3, 4, 5] in arr.tolist())\n",
    "print([16, 17, 20, 19, 18] in arr.tolist())\n",
    "print([3, 2, 5, -4, 5] in arr.tolist())\n",
    "print([11, 12, 13, 14, 15] in arr.tolist())"
   ]
  },
  {
   "cell_type": "code",
   "execution_count": 17,
   "id": "23a659e1",
   "metadata": {},
   "outputs": [
    {
     "name": "stdout",
     "output_type": "stream",
     "text": [
      "Given array:\n",
      "[[10.5 22.5  3.8]\n",
      " [41.   nan  nan]]\n",
      "\n",
      "Remove all rows containing non-numeric elements\n",
      "[[10.5 22.5  3.8]]\n"
     ]
    }
   ],
   "source": [
    "#Q5\n",
    "import numpy as np\n",
    "n_arr = np.array([[10.5, 22.5, 3.8],\n",
    "[41, np.nan, np.nan]])\n",
    "print(\"Given array:\")\n",
    "print(n_arr)\n",
    "print(\"\\nRemove all rows containing non-numeric elements\")\n",
    "print(n_arr[~np.isnan(n_arr).any(axis=1)])"
   ]
  },
  {
   "cell_type": "code",
   "execution_count": 18,
   "id": "6ea7048e",
   "metadata": {},
   "outputs": [
    {
     "name": "stdout",
     "output_type": "stream",
     "text": [
      "final array [5 2 3 5 2 1]\n"
     ]
    }
   ],
   "source": [
    "#Q6\n",
    "import numpy as np\n",
    "ini_array = np.array([1, 2, 5, 3, 2, 5])\n",
    "res = np.flip(ini_array)\n",
    "print(\"final array\", str(res))"
   ]
  },
  {
   "cell_type": "code",
   "execution_count": 19,
   "id": "305447df",
   "metadata": {},
   "outputs": [
    {
     "name": "stdout",
     "output_type": "stream",
     "text": [
      "Original array:\n",
      "[ 1  2  3  4  5 11 21  8  9  3]\n",
      "Most frequent value in the above array:\n",
      "3\n"
     ]
    }
   ],
   "source": [
    "#Q7\n",
    "import numpy as np\n",
    "x = np.array([1,2,3,4,5,11,21,8,9,3])\n",
    "print(\"Original array:\")\n",
    "print(x)\n",
    "print(\"Most frequent value in the above array:\")\n",
    "print(np.bincount(x).argmax())"
   ]
  },
  {
   "cell_type": "code",
   "execution_count": 20,
   "id": "5abec6aa",
   "metadata": {},
   "outputs": [
    {
     "name": "stdout",
     "output_type": "stream",
     "text": [
      "add(x1, x2, /, out=None, *, where=True, casting='same_kind', order='K', dtype=None, subok=True[, signature, extobj])\n",
      "\n",
      "Add arguments element-wise.\n",
      "\n",
      "Parameters\n",
      "----------\n",
      "x1, x2 : array_like\n",
      "    The arrays to be added.\n",
      "    If ``x1.shape != x2.shape``, they must be broadcastable to a common\n",
      "    shape (which becomes the shape of the output).\n",
      "out : ndarray, None, or tuple of ndarray and None, optional\n",
      "    A location into which the result is stored. If provided, it must have\n",
      "    a shape that the inputs broadcast to. If not provided or None,\n",
      "    a freshly-allocated array is returned. A tuple (possible only as a\n",
      "    keyword argument) must have length equal to the number of outputs.\n",
      "where : array_like, optional\n",
      "    This condition is broadcast over the input. At locations where the\n",
      "    condition is True, the `out` array will be set to the ufunc result.\n",
      "    Elsewhere, the `out` array will retain its original value.\n",
      "    Note that if an uninitialized `out` array is created via the default\n",
      "    ``out=None``, locations within it where the condition is False will\n",
      "    remain uninitialized.\n",
      "**kwargs\n",
      "    For other keyword-only arguments, see the\n",
      "    :ref:`ufunc docs <ufuncs.kwargs>`.\n",
      "\n",
      "Returns\n",
      "-------\n",
      "add : ndarray or scalar\n",
      "    The sum of `x1` and `x2`, element-wise.\n",
      "    This is a scalar if both `x1` and `x2` are scalars.\n",
      "\n",
      "Notes\n",
      "-----\n",
      "Equivalent to `x1` + `x2` in terms of array broadcasting.\n",
      "\n",
      "Examples\n",
      "--------\n",
      ">>> np.add(1.0, 4.0)\n",
      "5.0\n",
      ">>> x1 = np.arange(9.0).reshape((3, 3))\n",
      ">>> x2 = np.arange(3.0)\n",
      ">>> np.add(x1, x2)\n",
      "array([[  0.,   2.,   4.],\n",
      "       [  3.,   5.,   7.],\n",
      "       [  6.,   8.,  10.]])\n",
      "\n",
      "The ``+`` operator can be used as a shorthand for ``np.add`` on ndarrays.\n",
      "\n",
      ">>> x1 = np.arange(9.0).reshape((3, 3))\n",
      ">>> x2 = np.arange(3.0)\n",
      ">>> x1 + x2\n",
      "array([[ 0.,  2.,  4.],\n",
      "       [ 3.,  5.,  7.],\n",
      "       [ 6.,  8., 10.]])\n",
      "None\n"
     ]
    }
   ],
   "source": [
    "#Q8\n",
    "import numpy as np\n",
    "print(np.info(np.add))"
   ]
  },
  {
   "cell_type": "code",
   "execution_count": 21,
   "id": "f11d4935",
   "metadata": {},
   "outputs": [
    {
     "name": "stdout",
     "output_type": "stream",
     "text": [
      "An array of 10 zeros:\n",
      "[0. 0. 0. 0. 0. 0. 0. 0. 0. 0.]\n",
      "An array of 10 ones:\n",
      "[1. 1. 1. 1. 1. 1. 1. 1. 1. 1.]\n",
      "An array of 10 fives:\n",
      "[5. 5. 5. 5. 5.]\n"
     ]
    }
   ],
   "source": [
    "#Q9\n",
    "import numpy as np\n",
    "array=np.zeros(10)\n",
    "print(\"An array of 10 zeros:\")\n",
    "print(array)\n",
    "array=np.ones(10)\n",
    "print(\"An array of 10 ones:\")\n",
    "print(array)\n",
    "array=np.ones(5)*5\n",
    "print(\"An array of 10 fives:\")\n",
    "print(array)"
   ]
  },
  {
   "cell_type": "code",
   "execution_count": 22,
   "id": "bc544952",
   "metadata": {},
   "outputs": [
    {
     "name": "stdout",
     "output_type": "stream",
     "text": [
      "Array of the integers from 30 to70\n",
      "[30 31 32 33 34 35 36 37 38 39 40 41 42 43 44 45 46 47 48 49 50 51 52 53\n",
      " 54 55 56 57 58 59 60 61 62 63 64 65 66 67 68 69 70]\n"
     ]
    }
   ],
   "source": [
    "#Q10\n",
    "import numpy as np\n",
    "array=np.arange(30,71)\n",
    "print(\"Array of the integers from 30 to70\")\n",
    "print(array)"
   ]
  },
  {
   "cell_type": "code",
   "execution_count": 23,
   "id": "702682a3",
   "metadata": {},
   "outputs": [
    {
     "name": "stdout",
     "output_type": "stream",
     "text": [
      "Array of all the even integers from 30 to 70\n",
      "[30 32 34 36 38 40 42 44 46 48 50 52 54 56 58 60 62 64 66 68 70]\n"
     ]
    }
   ],
   "source": [
    "#Q11\n",
    "import numpy as np\n",
    "array=np.arange(30,71,2)\n",
    "print(\"Array of all the even integers from 30 to 70\")\n",
    "print(array) "
   ]
  },
  {
   "cell_type": "code",
   "execution_count": 24,
   "id": "52dcc671",
   "metadata": {},
   "outputs": [
    {
     "name": "stdout",
     "output_type": "stream",
     "text": [
      "3x3 matrix:\n",
      "[[1. 0. 0.]\n",
      " [0. 1. 0.]\n",
      " [0. 0. 1.]]\n"
     ]
    }
   ],
   "source": [
    "#Q12\n",
    "import numpy as np\n",
    "array_2D=np.identity(3)\n",
    "print('3x3 matrix:')\n",
    "print(array_2D)"
   ]
  },
  {
   "cell_type": "code",
   "execution_count": 25,
   "id": "ab3b935a",
   "metadata": {},
   "outputs": [
    {
     "name": "stdout",
     "output_type": "stream",
     "text": [
      "Original array:\n",
      "[[[ 2  3  5 11]\n",
      "  [ 1  3  4  9]\n",
      "  [10 11 12 14]\n",
      "  [ 5  0  3  2]]]\n",
      "\n",
      "Swap rows and columns of the said array in reverse order:\n",
      "[[[ 5  0  3  2]\n",
      "  [10 11 12 14]\n",
      "  [ 1  3  4  9]\n",
      "  [ 2  3  5 11]]]\n",
      "None\n"
     ]
    }
   ],
   "source": [
    "#Q13\n",
    "import numpy as np\n",
    "nums = np.array([[[2, 3, 5, 11],\n",
    "               [1, 3, 4, 9],\n",
    "               [10, 11, 12, 14],\n",
    "               [5, 0, 3, 2]]])\n",
    "print(\"Original array:\")\n",
    "print(nums)\n",
    "print(\"\\nSwap rows and columns of the said array in reverse order:\")\n",
    "new_nums = print(nums[::-1, ::-1])\n",
    "print(new_nums)"
   ]
  },
  {
   "cell_type": "code",
   "execution_count": 26,
   "id": "21d41c4c",
   "metadata": {},
   "outputs": [
    {
     "name": "stdout",
     "output_type": "stream",
     "text": [
      "Array1:\n",
      "[[2 5 2]\n",
      " [1 5 5]]\n",
      "Array2:\n",
      "[[5 3 4]\n",
      " [3 2 5]]\n",
      "\n",
      "Multiply said arrays of same size element-by-element:\n",
      "[[10 15  8]\n",
      " [ 3 10 25]]\n"
     ]
    }
   ],
   "source": [
    "#Q14\n",
    "import numpy as np \n",
    "nums1 = np.array([[2, 5, 2],\n",
    "              [1, 5, 5]])\n",
    "nums2 = np.array([[5, 3, 4],\n",
    "              [3, 2, 5]])\n",
    "print(\"Array1:\") \n",
    "print(nums1)\n",
    "print(\"Array2:\") \n",
    "print(nums2)\n",
    "print(\"\\nMultiply said arrays of same size element-by-element:\")\n",
    "print(np.multiply(nums1, nums2))"
   ]
  },
  {
   "cell_type": "code",
   "execution_count": 27,
   "id": "376f8755",
   "metadata": {},
   "outputs": [
    {
     "name": "stdout",
     "output_type": "stream",
     "text": [
      "Original array:\n",
      "[[5.54 3.38 7.99]\n",
      " [3.54 4.38 6.99]\n",
      " [1.54 2.39 9.29]]\n",
      "\n",
      "Elements of the said array greater than 5\n",
      "[5.54 7.99 6.99 9.29]\n",
      "\n",
      "Elements of the said array less than 6\n",
      "[5.54 3.38 3.54 4.38 1.54 2.39]\n"
     ]
    }
   ],
   "source": [
    "#Q15\n",
    "import numpy as np  \n",
    "nums = np.array([[5.54, 3.38, 7.99],\n",
    "              [3.54, 4.38, 6.99],\n",
    "              [1.54, 2.39, 9.29]])\n",
    "print(\"Original array:\")\n",
    "print(nums)\n",
    "n = 5\n",
    "print(\"\\nElements of the said array greater than\",n)\n",
    "print(nums[nums > n])\n",
    "n = 6\n",
    "print(\"\\nElements of the said array less than\",n)\n",
    "print(nums[nums < n])"
   ]
  },
  {
   "cell_type": "code",
   "execution_count": 28,
   "id": "71244a6b",
   "metadata": {},
   "outputs": [
    {
     "name": "stdout",
     "output_type": "stream",
     "text": [
      "[10 12 21 33]\n"
     ]
    }
   ],
   "source": [
    "#Q16\n",
    "import numpy as np\n",
    "arr = np.array([33, 12, 10, 21])\n",
    "print(np.sort(arr))"
   ]
  },
  {
   "cell_type": "code",
   "execution_count": null,
   "id": "9385e6ad",
   "metadata": {},
   "outputs": [],
   "source": []
  }
 ],
 "metadata": {
  "kernelspec": {
   "display_name": "Python 3 (ipykernel)",
   "language": "python",
   "name": "python3"
  },
  "language_info": {
   "codemirror_mode": {
    "name": "ipython",
    "version": 3
   },
   "file_extension": ".py",
   "mimetype": "text/x-python",
   "name": "python",
   "nbconvert_exporter": "python",
   "pygments_lexer": "ipython3",
   "version": "3.10.4"
  }
 },
 "nbformat": 4,
 "nbformat_minor": 5
}
