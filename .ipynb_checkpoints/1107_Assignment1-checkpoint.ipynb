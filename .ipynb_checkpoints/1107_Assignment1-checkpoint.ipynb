{
 "cells": [
  {
   "cell_type": "code",
   "execution_count": 8,
   "id": "66e40ecf",
   "metadata": {},
   "outputs": [
    {
     "name": "stdout",
     "output_type": "stream",
     "text": [
      "(4, 7, 2)\n",
      "13\n"
     ]
    }
   ],
   "source": [
    "# SOHAM SAMANTA | Roll : 20051107\n",
    "\n",
    "#1\n",
    "tup = 4,7,2\n",
    "print(tup)\n",
    "n1, n2, n3 = tup\n",
    "print(n1 + n2 + n3) \n",
    "\n"
   ]
  },
  {
   "cell_type": "code",
   "execution_count": 12,
   "id": "28a16707",
   "metadata": {},
   "outputs": [
    {
     "name": "stdout",
     "output_type": "stream",
     "text": [
      "(2, 4, 6, 8)\n",
      "(2, 4, 6, 8, 9)\n",
      "(2, 4, 6, 8, 9, 15, 20, 25, 2, 4, 6, 8, 9)\n",
      "(2, 4, 6, 8, 9, 15, 20, 25, 2, 4, 6, 8, 9, 30)\n"
     ]
    }
   ],
   "source": [
    "#2\n",
    "tup = (2,4,6,8) \n",
    "print(tup)\n",
    "tup = tup + (9,)\n",
    "print(tup)\n",
    "tup = tup[:5] + (15, 20, 25) + tup[:5]\n",
    "print(tup)\n",
    "listx = list(tup) \n",
    "listx.append(30)\n",
    "tup = tuple(listx)\n",
    "print(tup)"
   ]
  },
  {
   "cell_type": "code",
   "execution_count": 14,
   "id": "6c5b76f2",
   "metadata": {},
   "outputs": [
    {
     "name": "stdout",
     "output_type": "stream",
     "text": [
      "soham\n"
     ]
    }
   ],
   "source": [
    "#3\n",
    "def convertTuple(tup):\n",
    "    str = ''\n",
    "    for item in tup:\n",
    "        str = str + item\n",
    "    return str\n",
    " \n",
    "tuple = ('s', 'o', 'h', 'a', 'm')\n",
    "str = convertTuple(tuple)\n",
    "print(str)"
   ]
  },
  {
   "cell_type": "code",
   "execution_count": 18,
   "id": "979d1b4e",
   "metadata": {},
   "outputs": [
    {
     "name": "stdout",
     "output_type": "stream",
     "text": [
      "(2, 4, 5, 2, 4, 5, 7, 2)\n",
      "Occurences =  3\n"
     ]
    }
   ],
   "source": [
    "#4\n",
    "x = (2,4,5,2,4,5,7,2) \n",
    "print(x)  \n",
    "count = x.count(2)  \n",
    "print(\"Occurences =\",count)  "
   ]
  },
  {
   "cell_type": "code",
   "execution_count": 30,
   "id": "c5c96685",
   "metadata": {},
   "outputs": [
    {
     "name": "stdout",
     "output_type": "stream",
     "text": [
      "('s', 5, 'o', 'h', 'a', 'm')\n",
      "['s', 5, 'o', 'h', 'm']\n"
     ]
    }
   ],
   "source": [
    "#5\n",
    "tup = \"s\", 5, \"o\", \"h\", \"a\", \"m\"\n",
    "print(tup)\n",
    "listx = list(tup) \n",
    "listx.remove(\"a\") \n",
    "print(listx)"
   ]
  },
  {
   "cell_type": "code",
   "execution_count": 31,
   "id": "b9635a2d",
   "metadata": {},
   "outputs": [
    {
     "name": "stdout",
     "output_type": "stream",
     "text": [
      "('s', 'o', 'h', 'a', 'm')\n",
      "Index of a is:  3\n"
     ]
    }
   ],
   "source": [
    "#6\n",
    "val = ('s','o','h','a','m')  \n",
    "print(val)  \n",
    "index = val.index('a') \n",
    "print(\"Index of a is: \",index)  "
   ]
  },
  {
   "cell_type": "code",
   "execution_count": 4,
   "id": "b655c56d",
   "metadata": {},
   "outputs": [
    {
     "name": "stdout",
     "output_type": "stream",
     "text": [
      "The original tuple is : (5, 20, 3, 7, 6, 8)\n",
      "The extracted values : (3, 5, 8, 20)\n"
     ]
    }
   ],
   "source": [
    "#7\n",
    "tup = (5, 20, 3, 7, 6, 8)\n",
    "print(\"The original tuple is : \" + str(tup))\n",
    "K = 2\n",
    "tup = list(tup)\n",
    "temp = sorted(tup)\n",
    "res = tuple(temp[:K] + temp[-K:])\n",
    "print(\"The extracted values : \" + str(res))\n"
   ]
  },
  {
   "cell_type": "code",
   "execution_count": 45,
   "id": "9bd34c2a",
   "metadata": {},
   "outputs": [
    {
     "name": "stdout",
     "output_type": "stream",
     "text": [
      "(1, 2, 3, 4, 5, 6)\n",
      "(1, 2, 3, 4, 5)\n"
     ]
    }
   ],
   "source": [
    "#8\n",
    "tup = (1,2,3,4,5,6)\n",
    "print(tup)\n",
    "\n",
    "l_element = len(tup)-1\n",
    "tup = tup[:l_element]\n",
    "\n",
    "print(tup)"
   ]
  },
  {
   "cell_type": "code",
   "execution_count": 54,
   "id": "10855560",
   "metadata": {},
   "outputs": [
    {
     "name": "stdout",
     "output_type": "stream",
     "text": [
      "('m', 'a', 'h', 'o', 's')\n"
     ]
    }
   ],
   "source": [
    "#9\n",
    "def rev(tuples):\n",
    "    new_tup = tuples[::-1]\n",
    "    return new_tup\n",
    "     \n",
    "tuples = ('s','o','h','a','m')\n",
    "print(rev(tuples))"
   ]
  },
  {
   "cell_type": "code",
   "execution_count": 1,
   "id": "8a4315e3",
   "metadata": {},
   "outputs": [
    {
     "name": "stdout",
     "output_type": "stream",
     "text": [
      "<class 'list'>\n",
      "<class 'tuple'>\n"
     ]
    }
   ],
   "source": [
    "#10\n",
    "lis=[1,2,3,4]\n",
    "print(type(lis))\n",
    "tup=tuple(lis)\n",
    "print(type(tup))"
   ]
  },
  {
   "cell_type": "code",
   "execution_count": 2,
   "id": "48bc5229",
   "metadata": {},
   "outputs": [
    {
     "name": "stdout",
     "output_type": "stream",
     "text": [
      "['brand', 'model', 'year', 'electric', 'color']\n"
     ]
    }
   ],
   "source": [
    "#11\n",
    "mydict={\n",
    "    \"brand\":\"Maruti\",\n",
    "    \"model\":\"Swift\",\n",
    "    \"year\":2020,\n",
    "    \"electric\":False,\n",
    "    \"color\":[\"red\",\"white\",\"blue\"]\n",
    "}\n",
    "l1=list(mydict.keys())\n",
    "print(l1)"
   ]
  },
  {
   "cell_type": "code",
   "execution_count": 3,
   "id": "bc8f5ba8",
   "metadata": {},
   "outputs": [
    {
     "name": "stdout",
     "output_type": "stream",
     "text": [
      "['Maruti', 'Swift', 2020, False, ['red', 'white', 'blue']]\n"
     ]
    }
   ],
   "source": [
    "#12\n",
    "l2=list(mydict.values())\n",
    "print(l2)"
   ]
  },
  {
   "cell_type": "code",
   "execution_count": 5,
   "id": "cc9cb1a9",
   "metadata": {},
   "outputs": [
    {
     "name": "stdout",
     "output_type": "stream",
     "text": [
      "{'a': 10, 'b': 11, 'c': 12, 'd': 13}\n"
     ]
    }
   ],
   "source": [
    "#13\n",
    "dict1={\n",
    "    \"a\":10,\n",
    "    \"b\":11,\n",
    "}\n",
    "dict2={\n",
    "    \"c\":12,\n",
    "    \"d\":13,\n",
    "}\n",
    "dict1.update(dict2)\n",
    "print(dict1)"
   ]
  },
  {
   "cell_type": "code",
   "execution_count": 9,
   "id": "d7c74205",
   "metadata": {},
   "outputs": [
    {
     "name": "stdout",
     "output_type": "stream",
     "text": [
      "{'b': 11, 'e': 10}\n"
     ]
    }
   ],
   "source": [
    "#14\n",
    "dict1={\n",
    "    \"a\":10,\n",
    "    \"b\":11,\n",
    "}\n",
    "dict1['e']=dict1['a']\n",
    "del dict1['a']\n",
    "print(dict1)"
   ]
  },
  {
   "cell_type": "code",
   "execution_count": 10,
   "id": "f6cf1b66",
   "metadata": {},
   "outputs": [
    {
     "name": "stdout",
     "output_type": "stream",
     "text": [
      "b 11\n",
      "e 10\n"
     ]
    }
   ],
   "source": [
    "#15\n",
    "for x,y in dict1.items():\n",
    "    print(x,y)"
   ]
  },
  {
   "cell_type": "code",
   "execution_count": 11,
   "id": "6cc0243d",
   "metadata": {},
   "outputs": [
    {
     "ename": "KeyError",
     "evalue": "'c'",
     "output_type": "error",
     "traceback": [
      "\u001b[0;31m---------------------------------------------------------------------------\u001b[0m",
      "\u001b[0;31mKeyError\u001b[0m                                  Traceback (most recent call last)",
      "Cell \u001b[0;32mIn[11], line 1\u001b[0m\n\u001b[0;32m----> 1\u001b[0m \u001b[39mdel\u001b[39;00m dict1[\u001b[39m'\u001b[39;49m\u001b[39mc\u001b[39;49m\u001b[39m'\u001b[39;49m]\n\u001b[1;32m      2\u001b[0m \u001b[39mprint\u001b[39m(dict1)\n",
      "\u001b[0;31mKeyError\u001b[0m: 'c'"
     ]
    }
   ],
   "source": [
    "#16\n",
    "del dict1['c']\n",
    "print(dict1)"
   ]
  },
  {
   "cell_type": "code",
   "execution_count": 12,
   "id": "31eb9d72",
   "metadata": {},
   "outputs": [
    {
     "name": "stdout",
     "output_type": "stream",
     "text": [
      "Maximum : 89\n",
      "Minimum : 35\n"
     ]
    }
   ],
   "source": [
    "#17\n",
    "marks={\"m1\":78 , \"m2\":89 , \"m3\":64 , \"m4\":35 , \"m5\":71}\n",
    "v = marks.values()\n",
    "maxi = max(v)\n",
    "mini = min(v)\n",
    " \n",
    "print(\"Maximum :\",maxi)\n",
    "print(\"Minimum :\",mini)"
   ]
  },
  {
   "cell_type": "code",
   "execution_count": 1,
   "id": "57dfd5fe",
   "metadata": {},
   "outputs": [
    {
     "name": "stdout",
     "output_type": "stream",
     "text": [
      "Enter key to check:2\n",
      "Key isn't present!\n"
     ]
    }
   ],
   "source": [
    "#18\n",
    "d={'A':1,'B':2,'C':3}\n",
    "key=input(\"Enter key to check:\")\n",
    "if key in d.keys():\n",
    "      print(\"Key is present and value of the key is:\")\n",
    "      print(d[key])\n",
    "else:\n",
    "      print(\"Key isn't present!\")"
   ]
  },
  {
   "cell_type": "code",
   "execution_count": 2,
   "id": "e81e5fcd",
   "metadata": {},
   "outputs": [
    {
     "name": "stdout",
     "output_type": "stream",
     "text": [
      "{'A': 5, 'B': 2, 'C': 3, 'D': 1}\n"
     ]
    }
   ],
   "source": [
    "#19\n",
    "d={'D':1,'B':2,'C':3,'A':5}\n",
    "key=list(d.keys())\n",
    "key.sort()\n",
    "sorted_dict = {i: d[i] for i in key}\n",
    "print(sorted_dict)"
   ]
  },
  {
   "cell_type": "code",
   "execution_count": 3,
   "id": "0157c476",
   "metadata": {},
   "outputs": [
    {
     "name": "stdout",
     "output_type": "stream",
     "text": [
      "11\n"
     ]
    }
   ],
   "source": [
    "#20\n",
    "sum=0\n",
    "for x,y in d.items():\n",
    "    sum=sum+y\n",
    "print(sum)"
   ]
  },
  {
   "cell_type": "code",
   "execution_count": null,
   "id": "6daa1eb0",
   "metadata": {},
   "outputs": [],
   "source": []
  }
 ],
 "metadata": {
  "kernelspec": {
   "display_name": "Python 3 (ipykernel)",
   "language": "python",
   "name": "python3"
  },
  "language_info": {
   "codemirror_mode": {
    "name": "ipython",
    "version": 3
   },
   "file_extension": ".py",
   "mimetype": "text/x-python",
   "name": "python",
   "nbconvert_exporter": "python",
   "pygments_lexer": "ipython3",
   "version": "3.10.4"
  },
  "vscode": {
   "interpreter": {
    "hash": "5c7b89af1651d0b8571dde13640ecdccf7d5a6204171d6ab33e7c296e100e08a"
   }
  }
 },
 "nbformat": 4,
 "nbformat_minor": 5
}
