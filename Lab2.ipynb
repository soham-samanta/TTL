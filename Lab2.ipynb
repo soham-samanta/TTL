{
 "cells": [
  {
   "cell_type": "code",
   "execution_count": 2,
   "id": "7caf38f2",
   "metadata": {},
   "outputs": [
    {
     "name": "stdout",
     "output_type": "stream",
     "text": [
      "['apple', 'orange', 'banana']\n"
     ]
    }
   ],
   "source": [
    "#Name: Soham Samanta || Roll no:20051107\n",
    "\n",
    "newlist=[\"apple\",\"orange\",\"banana\"]\n",
    "print(newlist)"
   ]
  },
  {
   "cell_type": "code",
   "execution_count": 4,
   "id": "49706eb5",
   "metadata": {},
   "outputs": [
    {
     "name": "stdout",
     "output_type": "stream",
     "text": [
      "['man', 45, True, 56, 'male']\n",
      "5\n"
     ]
    }
   ],
   "source": [
    "list1=[\"man\",45,True,56,\"male\"]\n",
    "print(list1)\n",
    "print(len(list1))"
   ]
  },
  {
   "cell_type": "code",
   "execution_count": 7,
   "id": "d8323e76",
   "metadata": {},
   "outputs": [
    {
     "name": "stdout",
     "output_type": "stream",
     "text": [
      "('apple', 'orange', 'banana')\n"
     ]
    }
   ],
   "source": [
    "fruit=((\"apple\",\"orange\",\"banana\"))\n",
    "print(fruit)"
   ]
  },
  {
   "cell_type": "code",
   "execution_count": 13,
   "id": "b63d07d5",
   "metadata": {},
   "outputs": [
    {
     "name": "stdout",
     "output_type": "stream",
     "text": [
      "apple\n",
      "orange\n",
      "banana\n",
      "banana\n",
      "orange\n",
      "apple\n"
     ]
    }
   ],
   "source": [
    "fruit=[\"apple\",\"orange\",\"banana\"]\n",
    "print(fruit[0])\n",
    "print(fruit[1])\n",
    "print(fruit[2])\n",
    "print(fruit[-1])\n",
    "print(fruit[-2])\n",
    "print(fruit[-3])"
   ]
  },
  {
   "cell_type": "code",
   "execution_count": 14,
   "id": "f5c607f8",
   "metadata": {},
   "outputs": [
    {
     "name": "stdout",
     "output_type": "stream",
     "text": [
      "melon is present\n",
      "avacardo is not present\n"
     ]
    }
   ],
   "source": [
    "list=[\"mango\",\"apple\",\"banana\",\"orange\",\"kiwi\",\"melon\",\"cherry\"]\n",
    "\n",
    "if \"melon\" in list:\n",
    "    print(\"melon is present\")\n",
    "else:\n",
    "    print(\"melon is not present\")\n",
    "    \n",
    "if \"avacardo\" in list:\n",
    "    print(\"avacardo is present\")\n",
    "else:\n",
    "    print(\"avacardo is not present\")"
   ]
  },
  {
   "cell_type": "code",
   "execution_count": 15,
   "id": "2abaaf33",
   "metadata": {},
   "outputs": [
    {
     "name": "stdout",
     "output_type": "stream",
     "text": [
      "['apple', 'kiwi', 'banana']\n"
     ]
    }
   ],
   "source": [
    "list1=[\"apple\",\"orange\",\"banana\"]\n",
    "list1[1]=\"kiwi\"\n",
    "print(list1)"
   ]
  },
  {
   "cell_type": "code",
   "execution_count": 22,
   "id": "88f7995c",
   "metadata": {},
   "outputs": [
    {
     "name": "stdout",
     "output_type": "stream",
     "text": [
      "['apple', 'brinjal', 'cauliflower', 'banana', 'tomato', 'cherry', 'kiwi', 'melon']\n"
     ]
    }
   ],
   "source": [
    "list2=[\"apple\",\"orange\",\"banana\",\"tomato\",\"cherry\",\"kiwi\",\"melon\"]\n",
    "list2[1:3]=[\"brinjal\",\"cauliflower\"]\n",
    "print(list2)"
   ]
  },
  {
   "cell_type": "code",
   "execution_count": 53,
   "id": "8a89579c",
   "metadata": {},
   "outputs": [
    {
     "name": "stdout",
     "output_type": "stream",
     "text": [
      "['banana', 'tomato', 'cherry', 'kiwi']\n"
     ]
    }
   ],
   "source": [
    "list2=[\"apple\",\"orange\",\"banana\",\"tomato\",\"cherry\",\"kiwi\",\"melon\"]\n",
    "print(list2[2:6])"
   ]
  },
  {
   "cell_type": "code",
   "execution_count": 30,
   "id": "60bd476a",
   "metadata": {},
   "outputs": [
    {
     "name": "stdout",
     "output_type": "stream",
     "text": [
      "['apple', 'aaa', 'bbb', 'orange']\n"
     ]
    }
   ],
   "source": [
    "list=[\"apple\",\"mango\",\"orange\"]\n",
    "list[1:2]=[\"aaa\",\"bbb\"]\n",
    "print(list)"
   ]
  },
  {
   "cell_type": "code",
   "execution_count": 29,
   "id": "51ae603c",
   "metadata": {},
   "outputs": [
    {
     "name": "stdout",
     "output_type": "stream",
     "text": [
      "['banana', 'tomato', 'cherry', 'kiwi', 'melon']\n"
     ]
    }
   ],
   "source": [
    "list2=[\"apple\",\"orange\",\"banana\",\"tomato\",\"cherry\",\"kiwi\",\"melon\"]\n",
    "print(list2[2:])"
   ]
  },
  {
   "cell_type": "code",
   "execution_count": 28,
   "id": "a9361321",
   "metadata": {},
   "outputs": [
    {
     "name": "stdout",
     "output_type": "stream",
     "text": [
      "['apple', 'orange', 'berry', 'banana']\n"
     ]
    }
   ],
   "source": [
    "#insert element\n",
    "list=[\"apple\",\"orange\",\"banana\"]\n",
    "list.insert(2,\"berry\")\n",
    "print(list)"
   ]
  },
  {
   "cell_type": "code",
   "execution_count": 31,
   "id": "f4b02d01",
   "metadata": {},
   "outputs": [
    {
     "name": "stdout",
     "output_type": "stream",
     "text": [
      "['apple', 'berry', 'banana']\n"
     ]
    }
   ],
   "source": [
    "list=[\"apple\",\"mango\",\"banana\"]\n",
    "list[1]=\"berry\"\n",
    "print(list)"
   ]
  },
  {
   "cell_type": "code",
   "execution_count": 32,
   "id": "87f60848",
   "metadata": {},
   "outputs": [
    {
     "name": "stdout",
     "output_type": "stream",
     "text": [
      "['apple', 'mango', 'banana', 'cherry']\n"
     ]
    }
   ],
   "source": [
    "list=[\"apple\",\"mango\",\"banana\"]\n",
    "list.append(\"cherry\")\n",
    "print(list)"
   ]
  },
  {
   "cell_type": "code",
   "execution_count": 37,
   "id": "41e9b46d",
   "metadata": {},
   "outputs": [
    {
     "name": "stdout",
     "output_type": "stream",
     "text": [
      "['apple', 'kiwi', 'banana', 'mango', 'cherry', 'abcdef']\n"
     ]
    }
   ],
   "source": [
    "list1=[\"apple\",\"kiwi\",\"banana\"]\n",
    "list2=[\"mango\",\"cherry\",\"abcdef\"]\n",
    "list1.extend(list2)\n",
    "print(list1)"
   ]
  },
  {
   "cell_type": "code",
   "execution_count": 38,
   "id": "5ba43026",
   "metadata": {},
   "outputs": [
    {
     "name": "stdout",
     "output_type": "stream",
     "text": [
      "['apple', 'mango']\n"
     ]
    }
   ],
   "source": [
    "list1=[\"apple\",\"mango\",\"orange\"]\n",
    "list1.remove(\"orange\")\n",
    "print(list1)"
   ]
  },
  {
   "cell_type": "code",
   "execution_count": 39,
   "id": "5ad22ec9",
   "metadata": {},
   "outputs": [
    {
     "name": "stdout",
     "output_type": "stream",
     "text": [
      "['apple', 'banana']\n"
     ]
    }
   ],
   "source": [
    "list1=[\"apple\",\"mango\",\"banana\"]\n",
    "list1.pop(1)\n",
    "print(list1)"
   ]
  },
  {
   "cell_type": "code",
   "execution_count": 42,
   "id": "085bd162",
   "metadata": {},
   "outputs": [
    {
     "name": "stdout",
     "output_type": "stream",
     "text": [
      "['apple', 'mango']\n"
     ]
    }
   ],
   "source": [
    "list1=[\"apple\",\"mango\",\"banana\"]\n",
    "list1.pop()\n",
    "print(list1)"
   ]
  },
  {
   "cell_type": "code",
   "execution_count": 41,
   "id": "0c2dd112",
   "metadata": {},
   "outputs": [
    {
     "name": "stdout",
     "output_type": "stream",
     "text": [
      "[]\n"
     ]
    }
   ],
   "source": [
    "list1=[\"apple\",\"mango\",\"banana\"]\n",
    "list1.clear()\n",
    "print(list1)"
   ]
  },
  {
   "cell_type": "code",
   "execution_count": 43,
   "id": "72a33d48",
   "metadata": {},
   "outputs": [
    {
     "name": "stdout",
     "output_type": "stream",
     "text": [
      "apple\n",
      "banana\n",
      "orange\n"
     ]
    }
   ],
   "source": [
    "list1=[\"apple\",\"banana\",\"orange\"]\n",
    "for x in list1:\n",
    "    print(x)"
   ]
  },
  {
   "cell_type": "code",
   "execution_count": 45,
   "id": "bb7a55e9",
   "metadata": {},
   "outputs": [
    {
     "name": "stdout",
     "output_type": "stream",
     "text": [
      "apple\n",
      "banana\n",
      "orange\n"
     ]
    }
   ],
   "source": [
    "list1=[\"apple\",\"banana\",\"orange\"]\n",
    "for i in range(len(list1)):\n",
    "    print(list1[i])"
   ]
  },
  {
   "cell_type": "code",
   "execution_count": 46,
   "id": "f119a161",
   "metadata": {},
   "outputs": [
    {
     "name": "stdout",
     "output_type": "stream",
     "text": [
      "apple\n",
      "orange\n",
      "banana\n"
     ]
    }
   ],
   "source": [
    "list=[\"apple\",\"orange\",\"banana\"]\n",
    "i=0\n",
    "while i<len(list):\n",
    "    print(list[i])\n",
    "    i=i+1"
   ]
  },
  {
   "cell_type": "code",
   "execution_count": 49,
   "id": "66d2508e",
   "metadata": {
    "scrolled": true
   },
   "outputs": [
    {
     "name": "stdout",
     "output_type": "stream",
     "text": [
      "apple\n",
      "banana\n",
      "orange\n"
     ]
    },
    {
     "data": {
      "text/plain": [
       "[None, None, None]"
      ]
     },
     "execution_count": 49,
     "metadata": {},
     "output_type": "execute_result"
    }
   ],
   "source": [
    "list=[\"apple\",\"orange\",\"banana\"]\n",
    "[print(x) for x in list1]"
   ]
  },
  {
   "cell_type": "code",
   "execution_count": 50,
   "id": "6f86dac8",
   "metadata": {},
   "outputs": [
    {
     "name": "stdout",
     "output_type": "stream",
     "text": [
      "['banana', 'orange', 'apple']\n"
     ]
    }
   ],
   "source": [
    "list=[\"apple\",\"orange\",\"banana\"]\n",
    "list.reverse()\n",
    "print(list)"
   ]
  },
  {
   "cell_type": "code",
   "execution_count": 52,
   "id": "2312d5f6",
   "metadata": {},
   "outputs": [
    {
     "name": "stdout",
     "output_type": "stream",
     "text": [
      "['apple', 'orange', 'banana', 'mango', 'kiwi', 'banana']\n",
      "['mango', 'kiwi', 'banana', 'apple', 'orange', 'banana']\n"
     ]
    }
   ],
   "source": [
    "list1=[\"apple\",\"orange\",\"banana\"]\n",
    "list2=[\"mango\",\"kiwi\",\"banana\"]\n",
    "list3=list1+list2\n",
    "list4=list2+list1\n",
    "print(list3)\n",
    "print(list4)"
   ]
  },
  {
   "cell_type": "code",
   "execution_count": 54,
   "id": "d4ba2042",
   "metadata": {},
   "outputs": [
    {
     "name": "stdout",
     "output_type": "stream",
     "text": [
      "['tomato', 'cherry', 'kiwi']\n"
     ]
    }
   ],
   "source": [
    "list2=[\"apple\",\"orange\",\"banana\",\"tomato\",\"cherry\",\"kiwi\",\"melon\"]\n",
    "print(list2[-4:-1])"
   ]
  },
  {
   "cell_type": "code",
   "execution_count": 55,
   "id": "bf5d74f3",
   "metadata": {},
   "outputs": [
    {
     "name": "stdout",
     "output_type": "stream",
     "text": [
      "['apple', 'banana', 'tomato', 'cherry', 'kiwi', 'melon']\n"
     ]
    }
   ],
   "source": [
    "list2=[\"apple\",\"orange\",\"banana\",\"tomato\",\"cherry\",\"kiwi\",\"melon\"]\n",
    "del list2[1]\n",
    "print(list2)"
   ]
  },
  {
   "cell_type": "code",
   "execution_count": 57,
   "id": "ac8a04fe",
   "metadata": {},
   "outputs": [
    {
     "name": "stdout",
     "output_type": "stream",
     "text": [
      "Tools and Technology Lab\n",
      "Compiler Design\n",
      "Internet Of Things\n",
      "Software Project Management\n",
      "Data Analytics\n",
      "Cloud Computing\n"
     ]
    }
   ],
   "source": [
    "#Create a list of subjects in your semester and display each subject on a different line.\n",
    "\n",
    "subjects=[\"Tools and Technology Lab\",\"Compiler Design\",\"Internet Of Things\",\"Software Project Management\",\"Data Analytics\",\"Cloud Computing\"]\n",
    "i=0\n",
    "for i in range(len(subjects)):\n",
    "    print(subjects[i])"
   ]
  },
  {
   "cell_type": "code",
   "execution_count": 59,
   "id": "ef1af9a1",
   "metadata": {},
   "outputs": [
    {
     "name": "stdout",
     "output_type": "stream",
     "text": [
      "['Cloud Computing', 'Data Analytics', 'Software Project Management', 'Internet Of Things', 'Compiler Design', 'Tools and Technology Lab']\n"
     ]
    }
   ],
   "source": [
    "# Display name of subjects in reverse order\n",
    "subjects.reverse()\n",
    "print(subjects)"
   ]
  },
  {
   "cell_type": "code",
   "execution_count": 62,
   "id": "8ea2fbd8",
   "metadata": {},
   "outputs": [
    {
     "name": "stdout",
     "output_type": "stream",
     "text": [
      "484\n",
      "80.66666666666667\n"
     ]
    }
   ],
   "source": [
    "#Create a list of marks of all the above subjects and display the total and average marks\n",
    "marks=[87,67,91,85,71,83]\n",
    "sum=0\n",
    "average=0\n",
    "for i in range(len(marks)):\n",
    "    sum=sum+marks[i]\n",
    "average=sum/6\n",
    "print(sum)\n",
    "print(average)"
   ]
  },
  {
   "cell_type": "code",
   "execution_count": 63,
   "id": "e70fc92e",
   "metadata": {},
   "outputs": [
    {
     "name": "stdout",
     "output_type": "stream",
     "text": [
      "[67, 71, 83, 85, 87, 91]\n"
     ]
    }
   ],
   "source": [
    "#Display the marks in sorted order\n",
    "marks.sort()\n",
    "print(marks)"
   ]
  },
  {
   "cell_type": "code",
   "execution_count": 66,
   "id": "61aebcca",
   "metadata": {},
   "outputs": [
    {
     "name": "stdout",
     "output_type": "stream",
     "text": [
      "highest marks =  91\n",
      "lowest marks =  67\n"
     ]
    }
   ],
   "source": [
    "#Display highest and lowest marks\n",
    "print(\"highest marks = \",marks[len(marks)-1])\n",
    "print(\"lowest marks = \",marks[0])"
   ]
  },
  {
   "cell_type": "code",
   "execution_count": 67,
   "id": "624f4f87",
   "metadata": {},
   "outputs": [
    {
     "name": "stdout",
     "output_type": "stream",
     "text": [
      "second last =  87\n",
      "third last =  85\n"
     ]
    }
   ],
   "source": [
    "#Display marks of 2nd last and 3rd last subject marks\n",
    "print(\"second last = \",marks[-2])\n",
    "print(\"third last = \",marks[-3])"
   ]
  },
  {
   "cell_type": "code",
   "execution_count": 69,
   "id": "0b2afb49",
   "metadata": {},
   "outputs": [
    {
     "name": "stdout",
     "output_type": "stream",
     "text": [
      "[67, 83, 85, 87, 91]\n"
     ]
    }
   ],
   "source": [
    "#Remove the 1st element from the list and display\n",
    "del marks[1]\n",
    "print(marks)"
   ]
  },
  {
   "cell_type": "code",
   "execution_count": 70,
   "id": "e9b2da68",
   "metadata": {},
   "outputs": [
    {
     "name": "stdout",
     "output_type": "stream",
     "text": [
      "[67, 83, 100, 85, 87, 91]\n"
     ]
    }
   ],
   "source": [
    "#Enter the position and add new element at the position of a list.\n",
    "marks.insert(2,100)\n",
    "print(marks)"
   ]
  },
  {
   "cell_type": "code",
   "execution_count": 71,
   "id": "df4c1405",
   "metadata": {},
   "outputs": [
    {
     "name": "stdout",
     "output_type": "stream",
     "text": [
      "6\n"
     ]
    }
   ],
   "source": [
    "#Count the no of elements in the list\n",
    "print(len(marks))"
   ]
  },
  {
   "cell_type": "code",
   "execution_count": 72,
   "id": "a138f1d3",
   "metadata": {},
   "outputs": [
    {
     "name": "stdout",
     "output_type": "stream",
     "text": [
      "[67, 83, 100, 85, 91]\n"
     ]
    }
   ],
   "source": [
    "#Remove the element from the specified position of a list\n",
    "pos=4\n",
    "del marks[pos]\n",
    "print(marks)"
   ]
  },
  {
   "cell_type": "code",
   "execution_count": 81,
   "id": "4a957d2d",
   "metadata": {},
   "outputs": [
    {
     "name": "stdout",
     "output_type": "stream",
     "text": [
      "Maximum length string is : abcdefghi\n"
     ]
    }
   ],
   "source": [
    "#Create a list of strings and display string of longest length.\n",
    "list=[\"aa\",\"bbbccd\",\"abcdefghi\",\"d\",\"cc\"]\n",
    "max = -1\n",
    "for i in list:\n",
    "    if len(i) > max:\n",
    "        max = len(i)\n",
    "        res = i\n",
    "  \n",
    "# printing result\n",
    "print(\"Maximum length string is : \" + res)"
   ]
  },
  {
   "cell_type": "code",
   "execution_count": 88,
   "id": "7251bfeb",
   "metadata": {},
   "outputs": [
    {
     "name": "stdout",
     "output_type": "stream",
     "text": [
      "7569\n",
      "4489\n",
      "8464\n",
      "7225\n",
      "5041\n",
      "6889\n"
     ]
    }
   ],
   "source": [
    "#Create a list of numbers and display square of each element\n",
    "marks=[87,67,92,85,71,83]\n",
    "for i in range(len(marks)):\n",
    "    sq=marks[i]*marks[i]\n",
    "    print(sq)"
   ]
  },
  {
   "cell_type": "code",
   "execution_count": 89,
   "id": "e2ef8ea1",
   "metadata": {},
   "outputs": [
    {
     "name": "stdout",
     "output_type": "stream",
     "text": [
      "odd\n",
      "odd\n",
      "even\n",
      "odd\n",
      "odd\n",
      "odd\n"
     ]
    }
   ],
   "source": [
    "#Check & display each element of the list is even or odd\n",
    "for i in range(len(marks)):\n",
    "    if((marks[i]%2)==0):\n",
    "        print(\"even\")\n",
    "    else:\n",
    "        print(\"odd\")"
   ]
  },
  {
   "cell_type": "code",
   "execution_count": 93,
   "id": "46e028ff",
   "metadata": {},
   "outputs": [
    {
     "name": "stdout",
     "output_type": "stream",
     "text": [
      "even sum =  174 odd sum =  310\n"
     ]
    }
   ],
   "source": [
    "#Display even sum & odd sum values respectively\n",
    "marks=[87,67,92,85,71,82]\n",
    "esum=0\n",
    "osum=0\n",
    "for i in range(len(marks)):\n",
    "    if((marks[i]%2)==0):\n",
    "        esum=esum+marks[i]\n",
    "    else:\n",
    "        osum=osum+marks[i]\n",
    "print(\"even sum = \",esum,\"odd sum = \",osum)"
   ]
  },
  {
   "cell_type": "code",
   "execution_count": 105,
   "id": "6757fd0e",
   "metadata": {},
   "outputs": [
    {
     "name": "stdout",
     "output_type": "stream",
     "text": [
      "Enter a number20\n",
      "21\n",
      "19\n"
     ]
    }
   ],
   "source": [
    "#Display nearer largest & nearer smallest element for a given element.\n",
    "x=input(\"Enter a number\")\n",
    "x=int(x)\n",
    "print(x+1)\n",
    "print(x-1)"
   ]
  },
  {
   "cell_type": "code",
   "execution_count": 95,
   "id": "415256a7",
   "metadata": {},
   "outputs": [
    {
     "name": "stdout",
     "output_type": "stream",
     "text": [
      "['apple', 'orange', 'banana', 'mango', 'kiwi', 'banana']\n"
     ]
    }
   ],
   "source": [
    "#Merge two different list and display as a single list\n",
    "list1=[\"apple\",\"orange\",\"banana\"]\n",
    "list2=[\"mango\",\"kiwi\",\"banana\"]\n",
    "list3=list1+list2\n",
    "print(list3)"
   ]
  },
  {
   "cell_type": "code",
   "execution_count": 97,
   "id": "e96dffea",
   "metadata": {},
   "outputs": [
    {
     "name": "stdout",
     "output_type": "stream",
     "text": [
      "[11, 87, 67, 92, 85, 71, 82, 100]\n"
     ]
    }
   ],
   "source": [
    "#Insert a new element at the beginning and end of a list\n",
    "marks=[87,67,92,85,71,82]\n",
    "marks.insert(0,11)\n",
    "marks.insert(len(marks),100)\n",
    "print(marks)"
   ]
  },
  {
   "cell_type": "code",
   "execution_count": 100,
   "id": "3bcecb34",
   "metadata": {},
   "outputs": [
    {
     "name": "stdout",
     "output_type": "stream",
     "text": [
      "[82, 67, 92, 85, 71, 87]\n"
     ]
    }
   ],
   "source": [
    "#Swap the 1st and last elements of a list\n",
    "marks=[87,67,92,85,71,82]\n",
    "temp=marks[0]\n",
    "marks[0]=marks[len(marks)-1]\n",
    "marks[len(marks)-1]=temp\n",
    "print(marks)"
   ]
  },
  {
   "cell_type": "code",
   "execution_count": 101,
   "id": "16143882",
   "metadata": {},
   "outputs": [
    {
     "name": "stdout",
     "output_type": "stream",
     "text": [
      "melon is present\n"
     ]
    }
   ],
   "source": [
    "#Search a given element in the list is found or not\n",
    "list=[\"mango\",\"apple\",\"banana\",\"orange\",\"kiwi\",\"melon\",\"cherry\"]\n",
    "\n",
    "if \"melon\" in list:\n",
    "    print(\"melon is present\")\n",
    "else:\n",
    "    print(\"melon is not present\")"
   ]
  },
  {
   "cell_type": "code",
   "execution_count": 104,
   "id": "fa695995",
   "metadata": {},
   "outputs": [
    {
     "name": "stdout",
     "output_type": "stream",
     "text": [
      "Removed elements\n",
      "87\n",
      "67\n",
      "92\n",
      "85\n",
      "71\n",
      "82\n",
      "marks array =  []\n"
     ]
    }
   ],
   "source": [
    "#Remove all the each and every element from the list and also display the removed elements\n",
    "marks=[87,67,92,85,71,82]\n",
    "print(\"Removed elements\")\n",
    "for i in range(len(marks)):\n",
    "    print(marks[i])\n",
    "marks.clear()\n",
    "print(\"marks array = \",marks)"
   ]
  },
  {
   "cell_type": "code",
   "execution_count": null,
   "id": "3f83e6ed",
   "metadata": {},
   "outputs": [],
   "source": []
  }
 ],
 "metadata": {
  "kernelspec": {
   "display_name": "Python 3",
   "language": "python",
   "name": "python3"
  },
  "language_info": {
   "codemirror_mode": {
    "name": "ipython",
    "version": 3
   },
   "file_extension": ".py",
   "mimetype": "text/x-python",
   "name": "python",
   "nbconvert_exporter": "python",
   "pygments_lexer": "ipython3",
   "version": "3.11.1"
  },
  "vscode": {
   "interpreter": {
    "hash": "5c7b89af1651d0b8571dde13640ecdccf7d5a6204171d6ab33e7c296e100e08a"
   }
  }
 },
 "nbformat": 4,
 "nbformat_minor": 5
}
